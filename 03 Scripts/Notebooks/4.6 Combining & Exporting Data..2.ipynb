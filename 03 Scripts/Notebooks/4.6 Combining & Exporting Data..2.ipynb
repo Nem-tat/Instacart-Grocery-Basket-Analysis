{
 "cells": [
  {
   "cell_type": "markdown",
   "id": "46d0a16c",
   "metadata": {},
   "source": [
    "### 3. In a new notebook, import the orders_products_combined dataframe from the pickle file:"
   ]
  },
  {
   "cell_type": "code",
   "execution_count": 1,
   "id": "c4d87b20",
   "metadata": {},
   "outputs": [],
   "source": [
    "import pandas as pd\n",
    "import numpy as np\n",
    "import os"
   ]
  },
  {
   "cell_type": "code",
   "execution_count": 2,
   "id": "0ead1e4b",
   "metadata": {},
   "outputs": [],
   "source": [
    "df_prods = pd.read_csv('/Users/yukbuinnemtat/Desktop/30-07-2023 Instacart Basket Analysis/02 Data/Original Data/products.csv')"
   ]
  },
  {
   "cell_type": "code",
   "execution_count": 3,
   "id": "a3bf890f",
   "metadata": {},
   "outputs": [],
   "source": [
    "df_ords_prior = pd.read_csv('/Users/yukbuinnemtat/Desktop/30-07-2023 Instacart Basket Analysis/02 Data/Original Data/orders_products_prior.csv')"
   ]
  },
  {
   "cell_type": "code",
   "execution_count": 4,
   "id": "8acfb372",
   "metadata": {},
   "outputs": [],
   "source": [
    "df_ords = pd.read_csv('/Users/yukbuinnemtat/Desktop/30-07-2023 Instacart Basket Analysis/Prepared Data/orders_checked.csv')"
   ]
  },
  {
   "cell_type": "code",
   "execution_count": 5,
   "id": "35702be0",
   "metadata": {},
   "outputs": [],
   "source": [
    "# Assuming you have saved the orders_products_combined dataframe as a pickle file\n",
    "\n",
    "orders_products_combined = pd.read_pickle('/Users/yukbuinnemtat/Desktop/30-07-2023 Instacart Basket Analysis/02 Data/Original Data/orders_products_combined.pkl')"
   ]
  },
  {
   "cell_type": "markdown",
   "id": "81b82cd1",
   "metadata": {},
   "source": [
    "### 4. Check the shape of the imported dataframe:"
   ]
  },
  {
   "cell_type": "code",
   "execution_count": 6,
   "id": "4d3ee550",
   "metadata": {
    "scrolled": true
   },
   "outputs": [
    {
     "name": "stdout",
     "output_type": "stream",
     "text": [
      "(32434489, 9)\n"
     ]
    }
   ],
   "source": [
    "# Check the shape of the imported dataframe\n",
    "\n",
    "print(orders_products_combined.shape)"
   ]
  },
  {
   "cell_type": "markdown",
   "id": "9da45214",
   "metadata": {},
   "source": [
    "### 5. Combine orders_products_combined dataframe with your products data set:"
   ]
  },
  {
   "cell_type": "code",
   "execution_count": 7,
   "id": "cab8347c",
   "metadata": {},
   "outputs": [],
   "source": [
    "# Assuming products data set in a variable called 'df_prods'\n",
    "# Determine a suitable way to combine the dataframes based on common columns\n",
    "# For example, if there's a common column 'product_id':\n",
    "\n",
    "orders_products_merged = pd.merge(orders_products_combined, df_prods, on='product_id')\n"
   ]
  },
  {
   "cell_type": "markdown",
   "id": "489fb3f1",
   "metadata": {},
   "source": [
    "### 6. Confirm the results of the merge using the merge flag:"
   ]
  },
  {
   "cell_type": "code",
   "execution_count": 8,
   "id": "25fb753f",
   "metadata": {
    "scrolled": true
   },
   "outputs": [
    {
     "name": "stdout",
     "output_type": "stream",
     "text": [
      "   order_id  user_id  order_number  orders_day_of_week  order_hour_of_day  \\\n",
      "0   2539329        1             1                   2                  8   \n",
      "1   2398795        1             2                   3                  7   \n",
      "2    473747        1             3                   3                 12   \n",
      "3   2254736        1             4                   4                  7   \n",
      "4    431534        1             5                   4                 15   \n",
      "\n",
      "   days_since_prior_order  product_id  add_to_cart_order  reordered  \\\n",
      "0                     NaN         196                  1          0   \n",
      "1                    15.0         196                  1          1   \n",
      "2                    21.0         196                  1          1   \n",
      "3                    29.0         196                  1          1   \n",
      "4                    28.0         196                  1          1   \n",
      "\n",
      "  product_name  aisle_id  department_id  prices  \n",
      "0         Soda        77              7     9.0  \n",
      "1         Soda        77              7     9.0  \n",
      "2         Soda        77              7     9.0  \n",
      "3         Soda        77              7     9.0  \n",
      "4         Soda        77              7     9.0  \n"
     ]
    }
   ],
   "source": [
    "# Check if the merge was successful\n",
    "\n",
    "# Check the first few rows of the merged dataframe\n",
    "\n",
    "print(orders_products_merged.head()) \n"
   ]
  },
  {
   "cell_type": "markdown",
   "id": "80d176a8",
   "metadata": {},
   "source": [
    "### 7. Export the newly created dataframe as orders_products_merged:"
   ]
  },
  {
   "cell_type": "code",
   "execution_count": 9,
   "id": "abe8fce4",
   "metadata": {},
   "outputs": [],
   "source": [
    "# Export the merged dataframe in a suitable format, for example, CSV\n",
    "\n",
    "orders_products_merged.to_csv('orders_products_merged.csv', index=False)\n"
   ]
  },
  {
   "cell_type": "code",
   "execution_count": null,
   "id": "e74ed487",
   "metadata": {},
   "outputs": [],
   "source": []
  },
  {
   "cell_type": "code",
   "execution_count": null,
   "id": "7db93f20",
   "metadata": {},
   "outputs": [],
   "source": []
  }
 ],
 "metadata": {
  "kernelspec": {
   "display_name": "Python 3 (ipykernel)",
   "language": "python",
   "name": "python3"
  },
  "language_info": {
   "codemirror_mode": {
    "name": "ipython",
    "version": 3
   },
   "file_extension": ".py",
   "mimetype": "text/x-python",
   "name": "python",
   "nbconvert_exporter": "python",
   "pygments_lexer": "ipython3",
   "version": "3.9.13"
  }
 },
 "nbformat": 4,
 "nbformat_minor": 5
}
