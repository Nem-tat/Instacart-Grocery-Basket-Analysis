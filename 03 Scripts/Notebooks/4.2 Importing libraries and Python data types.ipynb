{
 "cells": [
  {
   "cell_type": "markdown",
   "id": "c41e06c2",
   "metadata": {},
   "source": [
    "# 01. Importing libraries"
   ]
  },
  {
   "cell_type": "code",
   "execution_count": 1,
   "id": "b7371fec",
   "metadata": {},
   "outputs": [],
   "source": [
    "# Import libraries\n",
    "import pandas as pd\n",
    "import numpy as np\n",
    "import os"
   ]
  },
  {
   "cell_type": "markdown",
   "id": "d25dff6f",
   "metadata": {},
   "source": [
    "### 7. Code 3 different ways of reaching a result of 100 by adding or subtracting numeric variables."
   ]
  },
  {
   "cell_type": "code",
   "execution_count": 8,
   "id": "729917c5",
   "metadata": {},
   "outputs": [],
   "source": [
    "x = 50"
   ]
  },
  {
   "cell_type": "code",
   "execution_count": 9,
   "id": "f29101ce",
   "metadata": {},
   "outputs": [
    {
     "data": {
      "text/plain": [
       "50"
      ]
     },
     "execution_count": 9,
     "metadata": {},
     "output_type": "execute_result"
    }
   ],
   "source": [
    "x"
   ]
  },
  {
   "cell_type": "code",
   "execution_count": 10,
   "id": "a73d669d",
   "metadata": {},
   "outputs": [],
   "source": [
    "y = 50"
   ]
  },
  {
   "cell_type": "code",
   "execution_count": 11,
   "id": "d4649c12",
   "metadata": {},
   "outputs": [
    {
     "data": {
      "text/plain": [
       "50"
      ]
     },
     "execution_count": 11,
     "metadata": {},
     "output_type": "execute_result"
    }
   ],
   "source": [
    "y"
   ]
  },
  {
   "cell_type": "code",
   "execution_count": 12,
   "id": "5c1f9db0",
   "metadata": {},
   "outputs": [
    {
     "data": {
      "text/plain": [
       "100"
      ]
     },
     "execution_count": 12,
     "metadata": {},
     "output_type": "execute_result"
    }
   ],
   "source": [
    "x + y"
   ]
  },
  {
   "cell_type": "code",
   "execution_count": 20,
   "id": "ae2b71d9",
   "metadata": {},
   "outputs": [],
   "source": [
    "a = 125"
   ]
  },
  {
   "cell_type": "code",
   "execution_count": 21,
   "id": "8c6b9439",
   "metadata": {},
   "outputs": [
    {
     "data": {
      "text/plain": [
       "125"
      ]
     },
     "execution_count": 21,
     "metadata": {},
     "output_type": "execute_result"
    }
   ],
   "source": [
    "a"
   ]
  },
  {
   "cell_type": "code",
   "execution_count": 15,
   "id": "ee628c7c",
   "metadata": {},
   "outputs": [],
   "source": [
    "b = 25"
   ]
  },
  {
   "cell_type": "code",
   "execution_count": 16,
   "id": "20aec197",
   "metadata": {},
   "outputs": [
    {
     "data": {
      "text/plain": [
       "25"
      ]
     },
     "execution_count": 16,
     "metadata": {},
     "output_type": "execute_result"
    }
   ],
   "source": [
    "b"
   ]
  },
  {
   "cell_type": "code",
   "execution_count": 17,
   "id": "fe1cd42b",
   "metadata": {},
   "outputs": [],
   "source": [
    "c = 50"
   ]
  },
  {
   "cell_type": "code",
   "execution_count": 18,
   "id": "959dfb89",
   "metadata": {},
   "outputs": [
    {
     "data": {
      "text/plain": [
       "50"
      ]
     },
     "execution_count": 18,
     "metadata": {},
     "output_type": "execute_result"
    }
   ],
   "source": [
    "c"
   ]
  },
  {
   "cell_type": "code",
   "execution_count": 22,
   "id": "466bd570",
   "metadata": {},
   "outputs": [
    {
     "data": {
      "text/plain": [
       "100"
      ]
     },
     "execution_count": 22,
     "metadata": {},
     "output_type": "execute_result"
    }
   ],
   "source": [
    "a + b - c"
   ]
  },
  {
   "cell_type": "code",
   "execution_count": 27,
   "id": "01e657bb",
   "metadata": {},
   "outputs": [],
   "source": [
    "No1 = 60"
   ]
  },
  {
   "cell_type": "code",
   "execution_count": 28,
   "id": "d2334e18",
   "metadata": {},
   "outputs": [
    {
     "data": {
      "text/plain": [
       "60"
      ]
     },
     "execution_count": 28,
     "metadata": {},
     "output_type": "execute_result"
    }
   ],
   "source": [
    "No1"
   ]
  },
  {
   "cell_type": "code",
   "execution_count": 29,
   "id": "836ef1dd",
   "metadata": {},
   "outputs": [],
   "source": [
    "No2 = 20"
   ]
  },
  {
   "cell_type": "code",
   "execution_count": 30,
   "id": "25359590",
   "metadata": {},
   "outputs": [
    {
     "data": {
      "text/plain": [
       "20"
      ]
     },
     "execution_count": 30,
     "metadata": {},
     "output_type": "execute_result"
    }
   ],
   "source": [
    "No2"
   ]
  },
  {
   "cell_type": "code",
   "execution_count": 31,
   "id": "f015cf41",
   "metadata": {},
   "outputs": [],
   "source": [
    "No3 = 30"
   ]
  },
  {
   "cell_type": "code",
   "execution_count": 32,
   "id": "42551166",
   "metadata": {},
   "outputs": [
    {
     "data": {
      "text/plain": [
       "30"
      ]
     },
     "execution_count": 32,
     "metadata": {},
     "output_type": "execute_result"
    }
   ],
   "source": [
    "No3 "
   ]
  },
  {
   "cell_type": "code",
   "execution_count": 33,
   "id": "96666319",
   "metadata": {},
   "outputs": [],
   "source": [
    "No4 = 30"
   ]
  },
  {
   "cell_type": "code",
   "execution_count": 34,
   "id": "5b2468cb",
   "metadata": {},
   "outputs": [
    {
     "data": {
      "text/plain": [
       "30"
      ]
     },
     "execution_count": 34,
     "metadata": {},
     "output_type": "execute_result"
    }
   ],
   "source": [
    "No4"
   ]
  },
  {
   "cell_type": "code",
   "execution_count": 35,
   "id": "f686cf15",
   "metadata": {},
   "outputs": [
    {
     "data": {
      "text/plain": [
       "100"
      ]
     },
     "execution_count": 35,
     "metadata": {},
     "output_type": "execute_result"
    }
   ],
   "source": [
    "No1 - No2 + No3 + No4"
   ]
  },
  {
   "cell_type": "markdown",
   "id": "6d202674",
   "metadata": {},
   "source": [
    "### 8. Code 2 floating-point variables and divide them by each other"
   ]
  },
  {
   "cell_type": "code",
   "execution_count": 36,
   "id": "9b9d4f75",
   "metadata": {},
   "outputs": [],
   "source": [
    "num1 = 7.5"
   ]
  },
  {
   "cell_type": "code",
   "execution_count": 37,
   "id": "86e7e16b",
   "metadata": {},
   "outputs": [
    {
     "data": {
      "text/plain": [
       "7.5"
      ]
     },
     "execution_count": 37,
     "metadata": {},
     "output_type": "execute_result"
    }
   ],
   "source": [
    "num1"
   ]
  },
  {
   "cell_type": "code",
   "execution_count": 42,
   "id": "5bd05e43",
   "metadata": {},
   "outputs": [],
   "source": [
    "num2 = 2.5"
   ]
  },
  {
   "cell_type": "code",
   "execution_count": 43,
   "id": "14a088c3",
   "metadata": {},
   "outputs": [
    {
     "data": {
      "text/plain": [
       "2.5"
      ]
     },
     "execution_count": 43,
     "metadata": {},
     "output_type": "execute_result"
    }
   ],
   "source": [
    "num2"
   ]
  },
  {
   "cell_type": "code",
   "execution_count": 44,
   "id": "8e644589",
   "metadata": {},
   "outputs": [
    {
     "data": {
      "text/plain": [
       "3.0"
      ]
     },
     "execution_count": 44,
     "metadata": {},
     "output_type": "execute_result"
    }
   ],
   "source": [
    "num1 / num2"
   ]
  },
  {
   "cell_type": "markdown",
   "id": "7b387eb8",
   "metadata": {},
   "source": [
    "### 9. Construct a short word made of separate strings (you’ll need to concatenate some strings!"
   ]
  },
  {
   "cell_type": "code",
   "execution_count": 49,
   "id": "12034f27",
   "metadata": {},
   "outputs": [],
   "source": [
    "String1 = 'A'"
   ]
  },
  {
   "cell_type": "code",
   "execution_count": 50,
   "id": "86d69e14",
   "metadata": {},
   "outputs": [],
   "source": [
    "String2 = 'P'"
   ]
  },
  {
   "cell_type": "code",
   "execution_count": 51,
   "id": "390cf2e3",
   "metadata": {},
   "outputs": [],
   "source": [
    "String3 = 'P'"
   ]
  },
  {
   "cell_type": "code",
   "execution_count": 52,
   "id": "17664d97",
   "metadata": {},
   "outputs": [],
   "source": [
    "String4 = 'L'"
   ]
  },
  {
   "cell_type": "code",
   "execution_count": 53,
   "id": "ba283193",
   "metadata": {},
   "outputs": [],
   "source": [
    "String5 = 'E'"
   ]
  },
  {
   "cell_type": "code",
   "execution_count": 54,
   "id": "158a349e",
   "metadata": {},
   "outputs": [
    {
     "data": {
      "text/plain": [
       "'APPLE'"
      ]
     },
     "execution_count": 54,
     "metadata": {},
     "output_type": "execute_result"
    }
   ],
   "source": [
    "String1 + String2 + String3 + String4 + String5"
   ]
  },
  {
   "cell_type": "markdown",
   "id": "083622b5",
   "metadata": {},
   "source": [
    "### 10. Construct 2 short sentences made of separate strings."
   ]
  },
  {
   "cell_type": "code",
   "execution_count": 59,
   "id": "8a60891e",
   "metadata": {},
   "outputs": [],
   "source": [
    "Sentence1_part1 = 'I love '"
   ]
  },
  {
   "cell_type": "code",
   "execution_count": 60,
   "id": "1fdab776",
   "metadata": {},
   "outputs": [],
   "source": [
    "Sentence2_part2 = 'playing football.'"
   ]
  },
  {
   "cell_type": "code",
   "execution_count": 61,
   "id": "2b081284",
   "metadata": {},
   "outputs": [
    {
     "data": {
      "text/plain": [
       "'I love playing football.'"
      ]
     },
     "execution_count": 61,
     "metadata": {},
     "output_type": "execute_result"
    }
   ],
   "source": [
    "Sentence1_part1 + '' + Sentence2_part2"
   ]
  },
  {
   "cell_type": "code",
   "execution_count": null,
   "id": "ba1dc562",
   "metadata": {},
   "outputs": [],
   "source": []
  },
  {
   "cell_type": "code",
   "execution_count": null,
   "id": "09b17c84",
   "metadata": {},
   "outputs": [],
   "source": []
  },
  {
   "cell_type": "code",
   "execution_count": null,
   "id": "8cc42e85",
   "metadata": {},
   "outputs": [],
   "source": []
  }
 ],
 "metadata": {
  "kernelspec": {
   "display_name": "Python 3 (ipykernel)",
   "language": "python",
   "name": "python3"
  },
  "language_info": {
   "codemirror_mode": {
    "name": "ipython",
    "version": 3
   },
   "file_extension": ".py",
   "mimetype": "text/x-python",
   "name": "python",
   "nbconvert_exporter": "python",
   "pygments_lexer": "ipython3",
   "version": "3.9.13"
  }
 },
 "nbformat": 4,
 "nbformat_minor": 5
}
